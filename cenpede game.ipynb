{
 "cells": [
  {
   "cell_type": "markdown",
   "metadata": {},
   "source": [
    "This programe is to calculate payoffs of Centipede game/tournament.\n",
    "There are two roles, p1 and p2, the action spaces are the same for both players,\n",
    "A1 = A2 = {Continue,Stop}^3 \n",
    "We denote by 1 Continue; by 0 Stop."
   ]
  },
  {
   "cell_type": "code",
   "execution_count": 3,
   "metadata": {},
   "outputs": [],
   "source": [
    "# We make a list as the collection of actions.\n",
    "\n",
    "set_p1 = [[1,1,1],[1,1,1],[1,1,1],[1,1,0]]\n",
    "set_p2 = [[1,1,1],[1,0,0],[0,0,0],[0,0,0]]\n",
    "\n",
    "# \n",
    "\n",
    "pf_p1 = {\"Jiaman\":0,\"Qijun\":0,\"Alex\":0,\"Nick\":0}\n",
    "pf_p2 = {\"Ruolong\":0,\"Tamara\":0,\"Lutfi\":0,\"Jinpeng\":0}\n",
    "\n"
   ]
  },
  {
   "cell_type": "code",
   "execution_count": 4,
   "metadata": {},
   "outputs": [
    {
     "name": "stdout",
     "output_type": "stream",
     "text": [
      "[[1, 1, 1, 1, 1, 1], [1, 1, 1, 0, 1, 0], [1, 0, 1, 0, 1, 0], [1, 0, 1, 0, 1, 0], [1, 1, 1, 1, 1, 1], [1, 1, 1, 0, 1, 0], [1, 0, 1, 0, 1, 0], [1, 0, 1, 0, 1, 0], [1, 1, 1, 1, 1, 1], [1, 1, 1, 0, 1, 0], [1, 0, 1, 0, 1, 0], [1, 0, 1, 0, 1, 0], [1, 1, 1, 1, 0, 1], [1, 1, 1, 0, 0, 0], [1, 0, 1, 0, 0, 0], [1, 0, 1, 0, 0, 0]]\n"
     ]
    }
   ],
   "source": [
    "# We do pairwise matching for each player\n",
    "\n",
    "tournaments = []\n",
    "for i in set_p1:\n",
    "    for j in set_p2:\n",
    "        temp = []+i\n",
    "        for k in range(3):\n",
    "            temp.insert(2*k+1,j[k])\n",
    "        tournaments.append(temp) \n",
    "print(tournaments)\n",
    "       \n",
    "\n"
   ]
  },
  {
   "cell_type": "code",
   "execution_count": 10,
   "metadata": {},
   "outputs": [
    {
     "name": "stdout",
     "output_type": "stream",
     "text": [
      "[[7, 6], [2, 5], [0, 3], [0, 3], [7, 6], [2, 5], [0, 3], [0, 3], [7, 6], [2, 5], [0, 3], [0, 3], [5, 4], [2, 5], [0, 3], [0, 3]]\n"
     ]
    }
   ],
   "source": [
    "# Calcualte the payoffs\n",
    "pf = [[1,0],[0,3],[3,2],[2,5],[5,4],[4,7],[7,6]]\n",
    "counter = 0\n",
    "payoff_collect = []\n",
    "for i in tournaments:\n",
    "    for j in i:  \n",
    "        if j == 1:\n",
    "            counter += 1\n",
    "            if counter == 6:\n",
    "                payoff_collect.append(pf[counter])\n",
    "                counter = 0\n",
    "        else:\n",
    "            payoff_collect.append(pf[counter])\n",
    "            counter = 0\n",
    "            break\n",
    "print(payoff_collect)\n",
    "\n",
    "\n",
    "\n"
   ]
  },
  {
   "cell_type": "code",
   "execution_count": 9,
   "metadata": {},
   "outputs": [
    {
     "name": "stdout",
     "output_type": "stream",
     "text": [
      "{'1': 9, '2': 9, '3': 9, '4': 7, '5': 22, '6': 20, '7': 12, '8': 12}\n"
     ]
    }
   ],
   "source": [
    "# Distribute payoffs to each player, suppose that 2n players play the game.\n",
    "# First n players are p1, last n players are p2.\n",
    "# The final payoffs map to the collection of actions, set_p1 and set_p2 \n",
    "\n",
    "def dist(n,pf_col):\n",
    "    payoff_dict = {}\n",
    "    for i in range(2*n):\n",
    "        payoff_dict[f\"{i+1}\"] = 0\n",
    "    for i in range(1,n+1):\n",
    "        counter = 0\n",
    "        for j in range((i-1)*n,i*n):\n",
    "                counter += 1\n",
    "                payoff_dict[f\"{i}\"] += pf_col[j][0] \n",
    "                payoff_dict[f\"{n + counter}\"] += pf_col[j][1] \n",
    "    return payoff_dict\n",
    "\n",
    "print(dist(4,payoff_collect))\n",
    "        "
   ]
  },
  {
   "cell_type": "code",
   "execution_count": null,
   "metadata": {},
   "outputs": [],
   "source": []
  }
 ],
 "metadata": {
  "interpreter": {
   "hash": "9c0da2c655dd10c63430f470bfaa151a19611fe7c8ee12f512f7d79d8823f5fb"
  },
  "kernelspec": {
   "display_name": "Python 3.9.6 64-bit",
   "language": "python",
   "name": "python3"
  },
  "language_info": {
   "codemirror_mode": {
    "name": "ipython",
    "version": 3
   },
   "file_extension": ".py",
   "mimetype": "text/x-python",
   "name": "python",
   "nbconvert_exporter": "python",
   "pygments_lexer": "ipython3",
   "version": "3.9.6"
  },
  "orig_nbformat": 4
 },
 "nbformat": 4,
 "nbformat_minor": 2
}
